{
 "cells": [
  {
   "cell_type": "markdown",
   "metadata": {},
   "source": [
    "## **Intro to Images:**\n"
   ]
  },
  {
   "cell_type": "markdown",
   "metadata": {},
   "source": [
    "### **Pixel**\n",
    "> Basic Unit of Images\n",
    "- A minute area of illumination on a display screen, one of many from which an image is composed."
   ]
  },
  {
   "cell_type": "markdown",
   "metadata": {},
   "source": [
    "> Co-Pixel"
   ]
  },
  {
   "cell_type": "markdown",
   "metadata": {},
   "source": [
    ">Adjacent Pixel"
   ]
  },
  {
   "cell_type": "markdown",
   "metadata": {},
   "source": [
    ">Unaffected Pixel"
   ]
  },
  {
   "cell_type": "markdown",
   "metadata": {},
   "source": [
    ">## Screen Size\n",
    "- 4 : 3\n",
    "- VGA\n",
    "- SXGA\n",
    "- HDTV\n",
    "- FHD\n",
    "- 16 : 9\n",
    "- 4k"
   ]
  },
  {
   "cell_type": "markdown",
   "metadata": {},
   "source": [
    "## Bits or Depth"
   ]
  },
  {
   "cell_type": "markdown",
   "metadata": {},
   "source": [
    "In the context of images, \"bits\" and \"depth\" refer to the amount of information each pixel in an image can carry. Here's a brief explanation:\n",
    "\n",
    "1. **Bits:**\n",
    "   - **Definition:** A bit is the smallest unit of data and can have a value of either 0 or 1.\n",
    "   - **Image Context:** In the context of images, the term \"bits\" is often used to describe the color depth or the number of bits used to represent each pixel's color.\n",
    "   - **Example:** In a 1-bit image, each pixel can be either black (0) or white (1). In an 8-bit image, each pixel can have one of 256 different color values.\n",
    "\n",
    "2. **Depth:**\n",
    "   - **Definition:** Depth in images refers to the number of bits used to represent the color of each pixel.\n",
    "   - **Image Context:** It's often expressed as bits per channel, and the total number of possible colors is 2 to the power of the bit depth.\n",
    "   - **Example:** An image with a depth of 8 bits per channel can represent 256 (2^8) different colors for each channel (e.g., red, green, and blue).\n",
    "\n",
    "In summary, \"bits\" in images generally refer to the number of bits used to represent each pixel's color, and \"depth\" specifies the precision or range of colors that can be represented. A higher bit depth allows for a more extensive range of colors and finer color gradations but requires more storage space."
   ]
  },
  {
   "cell_type": "markdown",
   "metadata": {},
   "source": [
    "## GrayScale"
   ]
  },
  {
   "cell_type": "markdown",
   "metadata": {},
   "source": []
  }
 ],
 "metadata": {
  "language_info": {
   "name": "python"
  }
 },
 "nbformat": 4,
 "nbformat_minor": 2
}
